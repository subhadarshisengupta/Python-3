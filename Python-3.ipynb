{
 "cells": [
  {
   "cell_type": "code",
   "execution_count": 30,
   "metadata": {},
   "outputs": [
    {
     "name": "stdout",
     "output_type": "stream",
     "text": [
      "15\n"
     ]
    }
   ],
   "source": [
    "## Illustration of built-in reduce() function to add a list of numbers\n",
    "def addition(a,b):\n",
    "    return a+b\n",
    "\n",
    "element_list = [1,2,3,4,5]\n",
    "print(reduce(addition,element_list,0))"
   ]
  },
  {
   "cell_type": "code",
   "execution_count": 31,
   "metadata": {},
   "outputs": [
    {
     "name": "stdout",
     "output_type": "stream",
     "text": [
      "15\n"
     ]
    }
   ],
   "source": [
    "## Illustration of my own myreduce() function to add a list of numbers\n",
    "def addition(a,b):\n",
    "    return a+b\n",
    "\n",
    "def myreduce(func, element_list):\n",
    "    if len(element_list)==0:\n",
    "        return 0\n",
    "    else:\n",
    "        result = element_list[0]\n",
    "        for i in range(1,len(element_list)):\n",
    "            result=func(result,element_list[i])\n",
    "        return result\n",
    "\n",
    "element_list = [1,2,3,4,5]\n",
    "print(myreduce(addition,element_list))"
   ]
  },
  {
   "cell_type": "code",
   "execution_count": 33,
   "metadata": {},
   "outputs": [
    {
     "name": "stdout",
     "output_type": "stream",
     "text": [
      "[3264, 1124, 4678, 24, 66, 8620]\n"
     ]
    }
   ],
   "source": [
    "## Illustration of my own myfilter() function to print the even numbers from a given list\n",
    "def check_even(a):\n",
    "    return a%2==0\n",
    "\n",
    "def myfilter(func, element_list):\n",
    "    return [element for element in element_list if func(element)==True]\n",
    "\n",
    "element_list = [213,343,3264,1124,4678,24,67,97,103,66,8620]\n",
    "print(myfilter(check_even,element_list))"
   ]
  },
  {
   "cell_type": "code",
   "execution_count": 35,
   "metadata": {},
   "outputs": [
    {
     "name": "stdout",
     "output_type": "stream",
     "text": [
      "[3264, 1124, 4678, 24, 66, 8620]\n"
     ]
    }
   ],
   "source": [
    "## Illustration of built-in filter() function to print the even numbers from a given list\n",
    "def check_even(a):\n",
    "    return a%2==0\n",
    "element_list = [213,343,3264,1124,4678,24,67,97,103,66,8620]\n",
    "print(list(filter(check_even,element_list)))"
   ]
  },
  {
   "cell_type": "code",
   "execution_count": 41,
   "metadata": {},
   "outputs": [
    {
     "name": "stdout",
     "output_type": "stream",
     "text": [
      " ACADGILD can be broken to ['A', 'C', 'A', 'D', 'G', 'I', 'L', 'D']\n"
     ]
    }
   ],
   "source": [
    "word = \"ACADGILD\"\n",
    "alphabet_list = [ alphabet for alphabet in word ]\n",
    "print (\" ACADGILD can be broken to \" + str(alphabet_list))"
   ]
  },
  {
   "cell_type": "code",
   "execution_count": 46,
   "metadata": {},
   "outputs": [
    {
     "name": "stdout",
     "output_type": "stream",
     "text": [
      "The output is ['x', 'xx', 'xxx', 'xxxx', 'y', 'yy', 'yyy', 'yyyy', 'z', 'zz', 'zzz', 'zzzz']\n"
     ]
    }
   ],
   "source": [
    "inputlist = ['x','y','z']\n",
    "result = [ item*num for item in inputlist for num in range(1,5)  ]\n",
    "print(\"The output is \" +   str(result))"
   ]
  },
  {
   "cell_type": "code",
   "execution_count": 47,
   "metadata": {},
   "outputs": [
    {
     "name": "stdout",
     "output_type": "stream",
     "text": [
      " The Output is ['x', 'y', 'z', 'xx', 'yy', 'zz', 'xxx', 'yyy', 'zzz', 'xxxx', 'yyyy', 'zzzz']\n"
     ]
    }
   ],
   "source": [
    "inputlist = ['x','y','z']\n",
    "result = [ item*num for num in range(1,5) for item in inputlist  ]\n",
    "print(\" The Output is \" +   str(result))"
   ]
  },
  {
   "cell_type": "code",
   "execution_count": 48,
   "metadata": {},
   "outputs": [
    {
     "name": "stdout",
     "output_type": "stream",
     "text": [
      "The Output is [[2], [3], [4], [3], [4], [5], [4], [5], [6]]\n"
     ]
    }
   ],
   "source": [
    "inputlist = [2,3,4]\n",
    "result = [ [item+num] for item in inputlist for num in range(0,3)]\n",
    "print(\"The Output is \" +  str(result))"
   ]
  },
  {
   "cell_type": "code",
   "execution_count": 49,
   "metadata": {},
   "outputs": [
    {
     "name": "stdout",
     "output_type": "stream",
     "text": [
      " The Output is [[2, 3, 4, 5], [3, 4, 5, 6], [4, 5, 6, 7], [5, 6, 7, 8]]\n"
     ]
    }
   ],
   "source": [
    "inputlist = [2,3,4,5]\n",
    "result = [ [item+num for item in inputlist] for num in range(0,4)  ]\n",
    "print(\" The Output is \" +  str(result))"
   ]
  },
  {
   "cell_type": "code",
   "execution_count": 53,
   "metadata": {},
   "outputs": [
    {
     "name": "stdout",
     "output_type": "stream",
     "text": [
      "The Output is [(1, 1), (2, 1), (3, 1), (1, 2), (2, 2), (3, 2), (1, 3), (2, 3), (3, 3)]\n"
     ]
    }
   ],
   "source": [
    "inputlist=[1,2,3]\n",
    "result = [ (b,a) for a in inputlist for b in inputlist]\n",
    "print(\"The Output is \" +  str(result))"
   ]
  },
  {
   "cell_type": "code",
   "execution_count": 61,
   "metadata": {},
   "outputs": [
    {
     "name": "stdout",
     "output_type": "stream",
     "text": [
      "Enter the number of words in the list:5\n",
      "Enter word1:Jay\n",
      "Enter word2:Julu\n",
      "Enter word3:Tanu\n",
      "Enter word4:Subha\n",
      "Enter word5:Subhadarshi\n",
      "The word with the longest length is: \n",
      "Subhadarshi\n"
     ]
    }
   ],
   "source": [
    "a=[]\n",
    "n= int(input(\"Enter the number of words in the list:\"))\n",
    "for x in range(0,n):\n",
    "    word=input(\"Enter word\" + str(x+1) + \":\")\n",
    "    a.append(word)\n",
    "max=len(a[0])\n",
    "LongestWord=a[0]\n",
    "for i in a:\n",
    "    if(len(i)>max1):\n",
    "       max=len(i)\n",
    "       LongestWord=i\n",
    "print(\"The word with the longest length is: \")\n",
    "print(LongestWord)"
   ]
  },
  {
   "cell_type": "code",
   "execution_count": null,
   "metadata": {},
   "outputs": [],
   "source": []
  }
 ],
 "metadata": {
  "kernelspec": {
   "display_name": "Python 3",
   "language": "python",
   "name": "python3"
  },
  "language_info": {
   "codemirror_mode": {
    "name": "ipython",
    "version": 3
   },
   "file_extension": ".py",
   "mimetype": "text/x-python",
   "name": "python",
   "nbconvert_exporter": "python",
   "pygments_lexer": "ipython3",
   "version": "3.6.5"
  }
 },
 "nbformat": 4,
 "nbformat_minor": 2
}
